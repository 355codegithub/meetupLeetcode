{
 "cells": [
  {
   "cell_type": "code",
   "execution_count": 3,
   "id": "2f8df5fc",
   "metadata": {},
   "outputs": [],
   "source": [
    "\n"
   ]
  },
  {
   "cell_type": "code",
   "execution_count": null,
   "id": "4b470502",
   "metadata": {},
   "outputs": [],
   "source": [
    "##Plan: Read the question. \n",
    "#requirements: Array of size N to 100. difference k. I'll need to traverse this list somehow to find pairs\n",
    "#Challenge: Array is different size\n",
    "#challenge: RunTime\n",
    "#challenge: Finding the pairs\n",
    "#design: Design a traverse solution.\n",
    "#nest for loop\n",
    "#code: code it\n",
    "#test: test it.\n"
   ]
  },
  {
   "cell_type": "code",
   "execution_count": null,
   "id": "562df930",
   "metadata": {},
   "outputs": [],
   "source": [
    "[1 2 3 4 5 6 7 8 9]\n",
    "1 2 \n",
    "1 3 \n",
    "1 4 \n",
    "1 5 \n",
    "1 6 \n",
    "1 7 \n",
    "#DONE .sort the first\n",
    "#find pairs of two\n",
    "#calculated absolute value of difference\n",
    "#counter of # of k pairs\n",
    "#traverse using Nested For Loops for Simplicity.\n",
    "#for loop is not the best, but is is complete."
   ]
  },
  {
   "cell_type": "code",
   "execution_count": 67,
   "id": "2f602361",
   "metadata": {},
   "outputs": [
    {
     "data": {
      "text/plain": [
       "3"
      ]
     },
     "execution_count": 67,
     "metadata": {},
     "output_type": "execute_result"
    }
   ],
   "source": [
    "mylist=[2,5,3,8]\n",
    "sorted(mylist)\n",
    "difference=abs(mylist[0]-mylist[1])\n",
    "difference"
   ]
  },
  {
   "cell_type": "code",
   "execution_count": 68,
   "id": "51d2e9a3",
   "metadata": {},
   "outputs": [],
   "source": [
    "def countKDifference(List, k):\n",
    "    countofKPairs=0\n",
    "    List=sorted(List)\n",
    "    #print(List)\n",
    "    #print(k)\n",
    "    #difference=abs(mylist[0]-mylist[1])\n",
    "    for listIndex1 in range(len(List)+1):\n",
    "        for listIndex2 in range(listIndex1,len(List)):\n",
    "            #print(str(listIndex1) + str(listIndex2))\n",
    "            tempDifference=abs(List[listIndex1]-List[listIndex2])\n",
    "            if tempDifference==k:\n",
    "                countofKPairs=countofKPairs+1\n",
    "    return(countofKPairs)"
   ]
  },
  {
   "cell_type": "code",
   "execution_count": 69,
   "id": "799b6b28",
   "metadata": {},
   "outputs": [],
   "source": [
    "mylist=[3,2,1,5,4]\n",
    "myK=2"
   ]
  },
  {
   "cell_type": "code",
   "execution_count": 66,
   "id": "23e30f33",
   "metadata": {},
   "outputs": [
    {
     "data": {
      "text/plain": [
       "3"
      ]
     },
     "execution_count": 66,
     "metadata": {},
     "output_type": "execute_result"
    }
   ],
   "source": [
    "countKDifference(mylist,myK)"
   ]
  },
  {
   "cell_type": "code",
   "execution_count": null,
   "id": "6e951998",
   "metadata": {},
   "outputs": [],
   "source": []
  },
  {
   "cell_type": "code",
   "execution_count": null,
   "id": "2c0c6c0b",
   "metadata": {},
   "outputs": [],
   "source": []
  }
 ],
 "metadata": {
  "kernelspec": {
   "display_name": "Python 3 (ipykernel)",
   "language": "python",
   "name": "python3"
  },
  "language_info": {
   "codemirror_mode": {
    "name": "ipython",
    "version": 3
   },
   "file_extension": ".py",
   "mimetype": "text/x-python",
   "name": "python",
   "nbconvert_exporter": "python",
   "pygments_lexer": "ipython3",
   "version": "3.9.12"
  }
 },
 "nbformat": 4,
 "nbformat_minor": 5
}
