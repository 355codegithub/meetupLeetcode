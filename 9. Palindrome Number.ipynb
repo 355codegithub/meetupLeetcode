{
 "cells": [
  {
   "cell_type": "code",
   "execution_count": 1,
   "id": "029a8489",
   "metadata": {},
   "outputs": [],
   "source": [
    "#Palindrome:\n",
    "#Integers. Basic Division. Modular 10.\n",
    "#Strings. Split a string into 2 substrings.\n",
    "#arrays. Store the number into a list. and then flip it.\n"
   ]
  },
  {
   "cell_type": "code",
   "execution_count": 2,
   "id": "ea65a6df",
   "metadata": {},
   "outputs": [],
   "source": [
    "#8:10-8:20pm\n",
    "#Tim will solve it from 8:20pm-8:30pm.\n",
    "#8:30pm. Present Work."
   ]
  },
  {
   "cell_type": "code",
   "execution_count": 3,
   "id": "eb137552",
   "metadata": {},
   "outputs": [],
   "source": [
    "#Find Nearest Palindrome.\n",
    "#Don't Brute Force with a For Loop.\n"
   ]
  },
  {
   "cell_type": "code",
   "execution_count": 4,
   "id": "28c44508",
   "metadata": {},
   "outputs": [],
   "source": [
    "##Planning: Read The Question. Read Constraints.\n",
    "##-231 <= x <= 231 - 1\n",
    "##Requirements: Return True or False.\n",
    "##Design: 3 Methods:\n",
    "##1) Mod 10. Divide by 10.\n",
    "##3) Array. List. Flipping it.\n",
    "##Code:\n",
    "##Test: "
   ]
  },
  {
   "cell_type": "code",
   "execution_count": 11,
   "id": "c205c3bf",
   "metadata": {},
   "outputs": [],
   "source": [
    "def isPalindrome(x):\n",
    "    if x<0:\n",
    "        return(False)\n",
    "    if abs(x)<10:\n",
    "        return(True)\n",
    "    originalX=x\n",
    "    flippedNumberList=[]\n",
    "    while(x>=1):\n",
    "        lastDigit=x%10\n",
    "        flippedNumberList.append(str(lastDigit))\n",
    "        x=int(x/10)\n",
    "    flippedNumber=int(\"\".join(flippedNumberList))\n",
    "    print(originalX)\n",
    "    print(flippedNumber)\n",
    "    return(originalX==flippedNumber)"
   ]
  },
  {
   "cell_type": "code",
   "execution_count": 9,
   "id": "d2df21a6",
   "metadata": {},
   "outputs": [],
   "source": [
    "def isPalindrome(x):\n",
    "    flippedString=\"\"\n",
    "    stringX=str(x)\n",
    "    #print(stringX)\n",
    "    for letter in stringX:\n",
    "        #print(letter)\n",
    "        flippedString=letter+flippedString\n",
    "        print(flippedString)\n",
    "    flippedNumber=int(flippedString)\n",
    "    print(flippedNumber)\n",
    "    print(x)\n",
    "    print(flippedNumber==x)\n",
    "    return(flippedNumber==x)"
   ]
  },
  {
   "cell_type": "code",
   "execution_count": 12,
   "id": "6ff5aa3f",
   "metadata": {},
   "outputs": [
    {
     "name": "stdout",
     "output_type": "stream",
     "text": [
      "1234554321\n",
      "1234554321\n"
     ]
    },
    {
     "data": {
      "text/plain": [
       "True"
      ]
     },
     "execution_count": 12,
     "metadata": {},
     "output_type": "execute_result"
    }
   ],
   "source": [
    "isPalindrome(1234554321)"
   ]
  },
  {
   "cell_type": "code",
   "execution_count": 6,
   "id": "49875d69",
   "metadata": {},
   "outputs": [
    {
     "data": {
      "text/plain": [
       "7"
      ]
     },
     "execution_count": 6,
     "metadata": {},
     "output_type": "execute_result"
    }
   ],
   "source": [
    "153847 %10\n",
    "#store it. and then compare the final flipped number."
   ]
  },
  {
   "cell_type": "code",
   "execution_count": null,
   "id": "2d4ebf1b",
   "metadata": {},
   "outputs": [],
   "source": [
    "153847. Mod10. 7. and then I keep going until the number is flipped."
   ]
  },
  {
   "cell_type": "code",
   "execution_count": null,
   "id": "5dc92655",
   "metadata": {},
   "outputs": [],
   "source": []
  },
  {
   "cell_type": "code",
   "execution_count": null,
   "id": "eaee5816",
   "metadata": {},
   "outputs": [],
   "source": []
  },
  {
   "cell_type": "code",
   "execution_count": null,
   "id": "a0902265",
   "metadata": {},
   "outputs": [],
   "source": []
  },
  {
   "cell_type": "code",
   "execution_count": null,
   "id": "28b4d8a8",
   "metadata": {},
   "outputs": [],
   "source": []
  },
  {
   "cell_type": "code",
   "execution_count": null,
   "id": "90ddaf74",
   "metadata": {},
   "outputs": [],
   "source": []
  },
  {
   "cell_type": "code",
   "execution_count": null,
   "id": "ab686184",
   "metadata": {},
   "outputs": [],
   "source": []
  },
  {
   "cell_type": "code",
   "execution_count": null,
   "id": "89843741",
   "metadata": {},
   "outputs": [],
   "source": []
  },
  {
   "cell_type": "code",
   "execution_count": null,
   "id": "edd03c83",
   "metadata": {},
   "outputs": [],
   "source": [
    "def isPalindrome(x):\n",
    "    if len(str(x))==1:\n",
    "        return True\n",
    "    inputLength=len(str(x))\n",
    "    firstHalf=str(x)[0:int(inputLength/2)]\n",
    "    secondHalf=str(x)[int(inputLength/2):inputLength]\n",
    "    \n",
    "    print(firstHalf)\n",
    "    print(secondHalf)"
   ]
  },
  {
   "cell_type": "code",
   "execution_count": 350,
   "id": "b0158b46",
   "metadata": {},
   "outputs": [
    {
     "data": {
      "text/plain": [
       "84185"
      ]
     },
     "execution_count": 350,
     "metadata": {},
     "output_type": "execute_result"
    }
   ],
   "source": [
    "import random\n",
    "randomInteger=random.randint(0,100000)\n",
    "randomInteger"
   ]
  },
  {
   "cell_type": "code",
   "execution_count": null,
   "id": "754b7e08",
   "metadata": {},
   "outputs": [],
   "source": []
  },
  {
   "cell_type": "code",
   "execution_count": 351,
   "id": "205c2d4d",
   "metadata": {},
   "outputs": [
    {
     "name": "stdout",
     "output_type": "stream",
     "text": [
      "84\n",
      "185\n"
     ]
    }
   ],
   "source": [
    "isPalindrome(randomInteger)"
   ]
  },
  {
   "cell_type": "code",
   "execution_count": null,
   "id": "a6f447f1",
   "metadata": {},
   "outputs": [],
   "source": []
  },
  {
   "cell_type": "code",
   "execution_count": 309,
   "id": "f26ac0e4",
   "metadata": {},
   "outputs": [],
   "source": [
    "def isPalindrome(x):\n",
    "    print(x)\n",
    "    if len(str(x))==1:\n",
    "        return True\n",
    "    if len(str(x))%2==0:\n",
    "        firstHalf=str(x)[0:int(len(str(x))/2)]\n",
    "        secondHalf=str(x)[int(len(str(x))/2):len(str(x))]\n",
    "        return(str(firstHalf)==str(flipInteger(secondHalf)))\n",
    "    else:\n",
    "        firstHalf=str(x)[0:int(len(str(x))/2-0.5)]\n",
    "        secondHalf=str(x)[int(len(str(x))/2+0.5):len(str(x))]\n",
    "        return(str(firstHalf)==str(flipInteger(secondHalf)))"
   ]
  },
  {
   "cell_type": "code",
   "execution_count": 310,
   "id": "5c775c8f",
   "metadata": {},
   "outputs": [],
   "source": [
    "def flipInteger(y):\n",
    "    numberOfDigits=len(str(y))\n",
    "    flipList=[]\n",
    "    for digit in range(numberOfDigits):\n",
    "        flipList.append(str(y)[numberOfDigits-digit-1])\n",
    "    flippedNumber=int(\"\".join(flipList))\n",
    "    return(flippedNumber)"
   ]
  },
  {
   "cell_type": "code",
   "execution_count": null,
   "id": "4b76afc9",
   "metadata": {},
   "outputs": [],
   "source": []
  },
  {
   "cell_type": "code",
   "execution_count": null,
   "id": "697c0d3e",
   "metadata": {},
   "outputs": [],
   "source": []
  },
  {
   "cell_type": "code",
   "execution_count": null,
   "id": "62ce65ff",
   "metadata": {},
   "outputs": [],
   "source": []
  }
 ],
 "metadata": {
  "kernelspec": {
   "display_name": "Python 3 (ipykernel)",
   "language": "python",
   "name": "python3"
  },
  "language_info": {
   "codemirror_mode": {
    "name": "ipython",
    "version": 3
   },
   "file_extension": ".py",
   "mimetype": "text/x-python",
   "name": "python",
   "nbconvert_exporter": "python",
   "pygments_lexer": "ipython3",
   "version": "3.9.12"
  }
 },
 "nbformat": 4,
 "nbformat_minor": 5
}
