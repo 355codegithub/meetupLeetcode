{
 "cells": [
  {
   "cell_type": "code",
   "execution_count": 1,
   "id": "6bee82ce",
   "metadata": {},
   "outputs": [],
   "source": [
    "#14. Longest Common Prefix\n"
   ]
  },
  {
   "cell_type": "code",
   "execution_count": 2,
   "id": "34ada38a",
   "metadata": {},
   "outputs": [
    {
     "data": {
      "text/plain": [
       "['reflower', 'flow', 'flight']"
      ]
     },
     "execution_count": 2,
     "metadata": {},
     "output_type": "execute_result"
    }
   ],
   "source": [
    "#[\"flower\",\"flow\",\"flight\"]\n",
    "['abc','abcdefghijklm','a']\n",
    "['abcdefghijkl','abcd','abcdefg']\n",
    "['a','ab','abc']\n",
    "[\"reflower\",\"flow\",\"flight\"]"
   ]
  },
  {
   "cell_type": "code",
   "execution_count": 8,
   "id": "9d1f91e8",
   "metadata": {},
   "outputs": [],
   "source": [
    "tempList = ['a','ab','abc']"
   ]
  },
  {
   "cell_type": "code",
   "execution_count": 9,
   "id": "0279cadf",
   "metadata": {},
   "outputs": [],
   "source": [
    "def longPrefix(strs):\n",
    "    longestSubString=\"\"\n",
    "    strs=sorted(strs, key=len)\n",
    "    print(strs)\n",
    "\n",
    "    if len(strs)==1:\n",
    "        return(strs[0])\n",
    "    for k in range(len(strs[0])+1):\n",
    "        substring=strs[0][0:k]\n",
    "        print(substring)\n",
    "        \n",
    "        foundMatch=True\n",
    "        for wordInList in strs:\n",
    "            print(wordInList)\n",
    "            if substring!=wordInList[0:k]:\n",
    "                foundMatch=False\n",
    "        if foundMatch==True:\n",
    "            longestSubString=substring\n",
    "    return(longestSubString)"
   ]
  },
  {
   "cell_type": "code",
   "execution_count": 10,
   "id": "c214cb9d",
   "metadata": {},
   "outputs": [
    {
     "name": "stdout",
     "output_type": "stream",
     "text": [
      "['a', 'ab', 'abc']\n",
      "\n",
      "a\n",
      "ab\n",
      "abc\n",
      "a\n",
      "a\n",
      "ab\n",
      "abc\n"
     ]
    },
    {
     "data": {
      "text/plain": [
       "'a'"
      ]
     },
     "execution_count": 10,
     "metadata": {},
     "output_type": "execute_result"
    }
   ],
   "source": [
    "longPrefix(tempList)"
   ]
  },
  {
   "cell_type": "code",
   "execution_count": 6,
   "id": "de57da08",
   "metadata": {},
   "outputs": [],
   "source": [
    "mystring=\"Hello\""
   ]
  },
  {
   "cell_type": "code",
   "execution_count": 7,
   "id": "831499e8",
   "metadata": {},
   "outputs": [
    {
     "data": {
      "text/plain": [
       "'ell'"
      ]
     },
     "execution_count": 7,
     "metadata": {},
     "output_type": "execute_result"
    }
   ],
   "source": [
    "mystring[1:4]"
   ]
  },
  {
   "cell_type": "code",
   "execution_count": null,
   "id": "5316373c",
   "metadata": {},
   "outputs": [],
   "source": []
  }
 ],
 "metadata": {
  "kernelspec": {
   "display_name": "Python 3 (ipykernel)",
   "language": "python",
   "name": "python3"
  },
  "language_info": {
   "codemirror_mode": {
    "name": "ipython",
    "version": 3
   },
   "file_extension": ".py",
   "mimetype": "text/x-python",
   "name": "python",
   "nbconvert_exporter": "python",
   "pygments_lexer": "ipython3",
   "version": "3.9.12"
  }
 },
 "nbformat": 4,
 "nbformat_minor": 5
}
