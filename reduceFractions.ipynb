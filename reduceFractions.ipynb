{
 "cells": [
  {
   "cell_type": "code",
   "execution_count": 5,
   "id": "41478643",
   "metadata": {},
   "outputs": [],
   "source": [
    "def reduceFraction(x,y):\n",
    "    print(\"Numerator: \"+str(x))\n",
    "    print(\"Denominator: \"+str(y))\n",
    "    print(str(x))\n",
    "    print(\"--\")\n",
    "    print(str(y))\n",
    "    #print(factorList(x))\n",
    "    #print(factorList(y))\n",
    "    gcf=greatestCommonFactor(factorList(x),factorList(y))\n",
    "    x=x/gcf\n",
    "    y=y/gcf\n",
    "    print(\"#################\")\n",
    "    print(\"Reduced Fraction:\")\n",
    "    print(str(int(x)))\n",
    "    print(\"--\")\n",
    "    print(str(int(y)))\n",
    "    "
   ]
  },
  {
   "cell_type": "code",
   "execution_count": null,
   "id": "d8bed56a",
   "metadata": {},
   "outputs": [],
   "source": []
  },
  {
   "cell_type": "code",
   "execution_count": 6,
   "id": "d38adde7",
   "metadata": {},
   "outputs": [],
   "source": [
    "def factorList(x):\n",
    "    inputFactorList=[]\n",
    "    for k in range(1,x+1):\n",
    "        if int(x/k)==x/k:\n",
    "            #print(k)\n",
    "            inputFactorList.append(k)\n",
    "    return(inputFactorList)"
   ]
  },
  {
   "cell_type": "code",
   "execution_count": 7,
   "id": "384ba1df",
   "metadata": {},
   "outputs": [],
   "source": [
    "def greatestCommonFactor(list1,list2):\n",
    "    greatestCommonFactor=1\n",
    "    for k in list1:\n",
    "        if k in list2:\n",
    "            greatestCommonFactor=k\n",
    "            #print(k)\n",
    "    #print(\"greatestCommonFactor\")\n",
    "   # print(greatestCommonFactor)\n",
    "    return(greatestCommonFactor)    "
   ]
  },
  {
   "cell_type": "code",
   "execution_count": null,
   "id": "338a7f05",
   "metadata": {},
   "outputs": [],
   "source": []
  },
  {
   "cell_type": "code",
   "execution_count": 10,
   "id": "bb06b9ba",
   "metadata": {},
   "outputs": [
    {
     "name": "stdout",
     "output_type": "stream",
     "text": [
      "Numerator: 600\n",
      "Denominator: 250\n",
      "600\n",
      "--\n",
      "250\n",
      "#################\n",
      "Reduced Fraction:\n",
      "12\n",
      "--\n",
      "5\n"
     ]
    }
   ],
   "source": [
    "reduceFraction(600,250)"
   ]
  },
  {
   "cell_type": "code",
   "execution_count": null,
   "id": "6b59542f",
   "metadata": {},
   "outputs": [],
   "source": []
  },
  {
   "cell_type": "code",
   "execution_count": null,
   "id": "f952550c",
   "metadata": {},
   "outputs": [],
   "source": []
  }
 ],
 "metadata": {
  "kernelspec": {
   "display_name": "Python 3 (ipykernel)",
   "language": "python",
   "name": "python3"
  },
  "language_info": {
   "codemirror_mode": {
    "name": "ipython",
    "version": 3
   },
   "file_extension": ".py",
   "mimetype": "text/x-python",
   "name": "python",
   "nbconvert_exporter": "python",
   "pygments_lexer": "ipython3",
   "version": "3.9.12"
  }
 },
 "nbformat": 4,
 "nbformat_minor": 5
}
