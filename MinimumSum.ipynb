{
 "cells": [
  {
   "cell_type": "code",
   "execution_count": 100,
   "id": "f8b70e6a",
   "metadata": {},
   "outputs": [],
   "source": [
    "#Input: num = 2932\n",
    "#Output: 52\n",
    "#Explanation: Some possible pairs [new1, new2] are [29, 23], [223, 9], etc.\n",
    "#The minimum sum can be obtained by the pair [29, 23]: 29 + 23 = 52.\n"
   ]
  },
  {
   "cell_type": "code",
   "execution_count": 128,
   "id": "80a49795",
   "metadata": {},
   "outputs": [],
   "source": [
    "def minimumSum(num):\n",
    "    digitList=[]\n",
    "    digitList.append(int(num/1000))\n",
    "    digitList.append(int((num%1000)/100))\n",
    "    digitList.append(int((num%100)/10))\n",
    "    digitList.append(num%10)\n",
    "    digitList=sorted(digitList)\n",
    "    print(digitList)\n",
    "    sum1=int(str(digitList[0]) + str(digitList[3])) + int(str(digitList[1]) + str(digitList[2])) \n",
    "    #sum2=int(str(digitList[0]) + str(digitList[2])) + int(str(digitList[1]) + str(digitList[3])) \n",
    "#    print(sum1)\n",
    "    return(sum1)"
   ]
  },
  {
   "cell_type": "code",
   "execution_count": 129,
   "id": "4938c3df",
   "metadata": {},
   "outputs": [
    {
     "name": "stdout",
     "output_type": "stream",
     "text": [
      "7840\n"
     ]
    }
   ],
   "source": [
    "import random\n",
    "num = random.randint(999,10000)\n",
    "print(num)"
   ]
  },
  {
   "cell_type": "code",
   "execution_count": 130,
   "id": "4f1f6cf7",
   "metadata": {},
   "outputs": [
    {
     "name": "stdout",
     "output_type": "stream",
     "text": [
      "[0, 4, 7, 8]\n"
     ]
    },
    {
     "data": {
      "text/plain": [
       "55"
      ]
     },
     "execution_count": 130,
     "metadata": {},
     "output_type": "execute_result"
    }
   ],
   "source": [
    "minimumSum(num)"
   ]
  },
  {
   "cell_type": "code",
   "execution_count": null,
   "id": "25c0ba7e",
   "metadata": {},
   "outputs": [],
   "source": []
  },
  {
   "cell_type": "code",
   "execution_count": 112,
   "id": "83c4513b",
   "metadata": {},
   "outputs": [
    {
     "data": {
      "text/plain": [
       "77"
      ]
     },
     "execution_count": 112,
     "metadata": {},
     "output_type": "execute_result"
    }
   ],
   "source": [
    "digitList"
   ]
  },
  {
   "cell_type": "code",
   "execution_count": 113,
   "id": "fe471e6b",
   "metadata": {},
   "outputs": [],
   "source": [
    "sumList=[]\n"
   ]
  },
  {
   "cell_type": "code",
   "execution_count": null,
   "id": "2f77e832",
   "metadata": {},
   "outputs": [],
   "source": []
  },
  {
   "cell_type": "code",
   "execution_count": 47,
   "id": "2fe9d3a3",
   "metadata": {},
   "outputs": [
    {
     "data": {
      "text/plain": [
       "3"
      ]
     },
     "execution_count": 47,
     "metadata": {},
     "output_type": "execute_result"
    }
   ],
   "source": []
  },
  {
   "cell_type": "code",
   "execution_count": null,
   "id": "81f386f0",
   "metadata": {},
   "outputs": [],
   "source": []
  },
  {
   "cell_type": "code",
   "execution_count": null,
   "id": "632bd4ed",
   "metadata": {},
   "outputs": [],
   "source": []
  },
  {
   "cell_type": "code",
   "execution_count": null,
   "id": "1d366b7b",
   "metadata": {},
   "outputs": [],
   "source": []
  },
  {
   "cell_type": "code",
   "execution_count": null,
   "id": "40df1f1b",
   "metadata": {},
   "outputs": [],
   "source": []
  }
 ],
 "metadata": {
  "kernelspec": {
   "display_name": "Python 3 (ipykernel)",
   "language": "python",
   "name": "python3"
  },
  "language_info": {
   "codemirror_mode": {
    "name": "ipython",
    "version": 3
   },
   "file_extension": ".py",
   "mimetype": "text/x-python",
   "name": "python",
   "nbconvert_exporter": "python",
   "pygments_lexer": "ipython3",
   "version": "3.9.12"
  }
 },
 "nbformat": 4,
 "nbformat_minor": 5
}
