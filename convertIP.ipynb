{
 "cells": [
  {
   "cell_type": "code",
   "execution_count": 30,
   "id": "4a2494de",
   "metadata": {},
   "outputs": [],
   "source": [
    "myIP = \"5.1.1.1\"\n"
   ]
  },
  {
   "cell_type": "code",
   "execution_count": 31,
   "id": "0808133a",
   "metadata": {},
   "outputs": [
    {
     "data": {
      "text/plain": [
       "'5[.]1[.]1[.]1'"
      ]
     },
     "execution_count": 31,
     "metadata": {},
     "output_type": "execute_result"
    }
   ],
   "source": [
    "convertIP(myIP)"
   ]
  },
  {
   "cell_type": "code",
   "execution_count": null,
   "id": "33b2f5fe",
   "metadata": {},
   "outputs": [],
   "source": []
  },
  {
   "cell_type": "code",
   "execution_count": 29,
   "id": "9256f00f",
   "metadata": {},
   "outputs": [],
   "source": [
    "def convertIP(myIP):\n",
    "    listString=list(myIP)\n",
    "    for k in range(len(listString)):\n",
    "        #print(k)\n",
    "        if listString[k] =='.':\n",
    "            #print(\"This is a period\")\n",
    "            listString[k]='[.]'\n",
    "    return(\"\".join(listString))"
   ]
  },
  {
   "cell_type": "code",
   "execution_count": null,
   "id": "f26ab6c6",
   "metadata": {},
   "outputs": [],
   "source": []
  },
  {
   "cell_type": "code",
   "execution_count": null,
   "id": "fd831413",
   "metadata": {},
   "outputs": [],
   "source": [
    "#2441. Largest Positive Integer That Exists With Its Negative\n",
    "Input: nums = [-1,2,-3,3]\n",
    "Output: 3\n",
    "Explanation: 3 is the only valid k we can find in the array.\n",
    "\n",
    "Input: nums = [-1,10,6,7,-7,1]\n",
    "Output: 7\n",
    "Explanation: Both 1 and 7 have their corresponding negative values in the array. 7 has a larger value.\n",
    "\n",
    "Input: nums = [-10,8,6,7,-2,-3]\n",
    "Output: -1\n",
    "Explanation: There is no a single valid k, we return -1."
   ]
  },
  {
   "cell_type": "code",
   "execution_count": null,
   "id": "bf20d323",
   "metadata": {},
   "outputs": [],
   "source": []
  }
 ],
 "metadata": {
  "kernelspec": {
   "display_name": "Python 3 (ipykernel)",
   "language": "python",
   "name": "python3"
  },
  "language_info": {
   "codemirror_mode": {
    "name": "ipython",
    "version": 3
   },
   "file_extension": ".py",
   "mimetype": "text/x-python",
   "name": "python",
   "nbconvert_exporter": "python",
   "pygments_lexer": "ipython3",
   "version": "3.9.12"
  }
 },
 "nbformat": 4,
 "nbformat_minor": 5
}
