{
 "cells": [
  {
   "cell_type": "code",
   "execution_count": 509,
   "id": "d86749c6",
   "metadata": {},
   "outputs": [],
   "source": [
    "#633. Sum of Square Numbers\n",
    "\n",
    "#Plan: Read The Question\n",
    "#Requirements: Return True/False\n",
    "#Design:\n",
    "#For Loops/While Loops/Dictionary\n",
    "#Store every perfect square in a list.\n",
    "#Then try to see if 2 elements add up to target number\n",
    "\n",
    "#Start at the beginning. \n",
    "#See if C - 1^2 is in list\n",
    "#then if C-2^2 is in list\n",
    "#then keep going\n",
    "#this might be slow. but it is a comprehensive approach.\n",
    "\n",
    "#Code: Do.\n",
    "#Test: a2 + b2 = c.\n",
    "\n",
    "#c=5 True: 1^1 + 2^2\n",
    "#c=3 False\n",
    "\n",
    "#0 <= c <= 2147483647"
   ]
  },
  {
   "cell_type": "code",
   "execution_count": 510,
   "id": "8f4a98f7",
   "metadata": {},
   "outputs": [],
   "source": [
    "import random\n",
    "import math"
   ]
  },
  {
   "cell_type": "code",
   "execution_count": 511,
   "id": "48ed645e",
   "metadata": {},
   "outputs": [],
   "source": [
    "def judgeSquareSum(c):\n",
    "    perfectSquareList=[]\n",
    "    upperCeiling=int(math.sqrt(c))+1\n",
    "    for k in range(1000):\n",
    "        perfectSquareList.append(k*k)\n",
    "    \n",
    "    for square in perfectSquareList:\n",
    "        targetValueBsquared=c-square\n",
    "        print(c)\n",
    "        print(square)\n",
    "        print(targetValueBsquared)\n",
    "        if targetValueBsquared in perfectSquareList:\n",
    "            return(True)\n",
    "            print(\"####Found A2+B2 = C\")\n",
    "    return(False)\n",
    "    #print(perfectSquareList)\n",
    "    #print(c)"
   ]
  },
  {
   "cell_type": "code",
   "execution_count": 554,
   "id": "f4d1fda3",
   "metadata": {
    "scrolled": true
   },
   "outputs": [],
   "source": [
    "def judgeSquareSum(c):\n",
    "    if math.sqrt(c)==int(math.sqrt(c)):\n",
    "        return(True)\n",
    "    print(c)\n",
    "    #if b=0, then a= 10. the largest that A could be is sqrt(c). then check smaller numbers.\n",
    "    upperLimit=int(math.sqrt(c))\n",
    "    print(upperLimit)\n",
    "    lowerLimit=int(upperLimit/2)\n",
    "    print(lowerLimit)\n",
    "    for b in range(upperLimit,0,-1):\n",
    "        print(b)\n",
    "        a=c-b*b\n",
    "        #determine if a is a perfect square\n",
    "        if math.sqrt(a)==int(math.sqrt(a)):\n",
    "            return(True)\n",
    "    return(False)"
   ]
  },
  {
   "cell_type": "code",
   "execution_count": 566,
   "id": "59045c04",
   "metadata": {
    "scrolled": true
   },
   "outputs": [
    {
     "data": {
      "text/plain": [
       "10000000"
      ]
     },
     "execution_count": 566,
     "metadata": {},
     "output_type": "execute_result"
    }
   ],
   "source": [
    "inputNum=10000000\n",
    "#inputNum=100000000\n",
    "#inputNum=random.randint(10, 10000)\n",
    "inputNum"
   ]
  },
  {
   "cell_type": "code",
   "execution_count": 567,
   "id": "ac535e43",
   "metadata": {},
   "outputs": [
    {
     "name": "stdout",
     "output_type": "stream",
     "text": [
      "10000000\n",
      "3162\n",
      "1581\n",
      "3162\n",
      "3161\n",
      "3160\n"
     ]
    },
    {
     "data": {
      "text/plain": [
       "True"
      ]
     },
     "execution_count": 567,
     "metadata": {},
     "output_type": "execute_result"
    }
   ],
   "source": [
    "judgeSquareSum(inputNum)"
   ]
  },
  {
   "cell_type": "code",
   "execution_count": null,
   "id": "c4250237",
   "metadata": {},
   "outputs": [],
   "source": []
  },
  {
   "cell_type": "code",
   "execution_count": null,
   "id": "55897257",
   "metadata": {},
   "outputs": [],
   "source": []
  },
  {
   "cell_type": "code",
   "execution_count": null,
   "id": "79d44f79",
   "metadata": {},
   "outputs": [],
   "source": []
  },
  {
   "cell_type": "code",
   "execution_count": null,
   "id": "aa94c514",
   "metadata": {},
   "outputs": [],
   "source": []
  },
  {
   "cell_type": "code",
   "execution_count": null,
   "id": "29d2369c",
   "metadata": {},
   "outputs": [],
   "source": []
  }
 ],
 "metadata": {
  "kernelspec": {
   "display_name": "Python 3 (ipykernel)",
   "language": "python",
   "name": "python3"
  },
  "language_info": {
   "codemirror_mode": {
    "name": "ipython",
    "version": 3
   },
   "file_extension": ".py",
   "mimetype": "text/x-python",
   "name": "python",
   "nbconvert_exporter": "python",
   "pygments_lexer": "ipython3",
   "version": "3.9.12"
  }
 },
 "nbformat": 4,
 "nbformat_minor": 5
}
