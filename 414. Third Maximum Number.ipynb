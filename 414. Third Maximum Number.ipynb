{
 "cells": [
  {
   "cell_type": "code",
   "execution_count": 15,
   "id": "4a6e8b88",
   "metadata": {},
   "outputs": [
    {
     "ename": "SyntaxError",
     "evalue": "invalid syntax (1013125281.py, line 4)",
     "output_type": "error",
     "traceback": [
      "\u001b[0;36m  Input \u001b[0;32mIn [15]\u001b[0;36m\u001b[0m\n\u001b[0;31m    3rd Maximum.\u001b[0m\n\u001b[0m     ^\u001b[0m\n\u001b[0;31mSyntaxError\u001b[0m\u001b[0;31m:\u001b[0m invalid syntax\n"
     ]
    }
   ],
   "source": [
    "#Planning: nums. Return 3rd Maximum. Else Return Max.\n",
    "#requirements:\n",
    "nums = [3,2,1]\n",
    "3rd Maximum.\n",
    "Return Maximium.\n",
    "\n",
    "#Design:\n",
    "1) Sorted List.\n",
    "2) Practice: Get Maximum.\n",
    "3) xReturn 3rd from last. \n",
    "3) Account for Ties. Make a counter that goes backwards.\n",
    "IDEA: Set.Remove duplicates. and then find the 3rd from largest.\n",
    "\n",
    "Design Helper Function:\n",
    "Design Data Structure:\n",
    "List/Set/Dictionary/TreeList/Heap/\n",
    "    \n",
    "4) Look at Runtime. \n",
    "5) Improve Runtime Big-O.\n",
    "\n",
    "#Coding:\n",
    "\n",
    "#Testing:\n",
    "nums = [3,2,1]\n",
    "nums = [1,2]\n",
    "nums = [2,2,3,1]\n",
    "\n",
    "#Deployment/RunTime:\n",
    "\n",
    "1 <= nums.length <= 104\n",
    "-231 <= nums[i] <= 231 - 1\n",
    "Can you find an O(n) solution?\n",
    "\n"
   ]
  },
  {
   "cell_type": "code",
   "execution_count": 28,
   "id": "8beef0b2",
   "metadata": {},
   "outputs": [],
   "source": [
    "def thirdMax(nums):\n",
    "    numsSet=set(nums)\n",
    "    numsSet=sorted(numsSet,reverse=True)\n",
    "    numsSetLength=len(numsSet)\n",
    "    rankList=[]\n",
    "    #Keep it as a Set\n",
    "    if numsSetLength>3:\n",
    "        return(numsSet[2])\n",
    "    else:\n",
    "        return(numSet[0])"
   ]
  },
  {
   "cell_type": "code",
   "execution_count": 29,
   "id": "2621d22f",
   "metadata": {},
   "outputs": [],
   "source": [
    "inputList=[2,2,3,1,1,8,4,-4,-2,-4,-1,-9,-7,-8,-15,-20,-22,-25,-30]\n"
   ]
  },
  {
   "cell_type": "code",
   "execution_count": 30,
   "id": "be722895",
   "metadata": {},
   "outputs": [
    {
     "data": {
      "text/plain": [
       "3"
      ]
     },
     "execution_count": 30,
     "metadata": {},
     "output_type": "execute_result"
    }
   ],
   "source": [
    "thirdMax(inputList)"
   ]
  },
  {
   "cell_type": "code",
   "execution_count": null,
   "id": "397eaa34",
   "metadata": {},
   "outputs": [],
   "source": []
  },
  {
   "cell_type": "code",
   "execution_count": null,
   "id": "7581610e",
   "metadata": {},
   "outputs": [],
   "source": []
  }
 ],
 "metadata": {
  "kernelspec": {
   "display_name": "Python 3 (ipykernel)",
   "language": "python",
   "name": "python3"
  },
  "language_info": {
   "codemirror_mode": {
    "name": "ipython",
    "version": 3
   },
   "file_extension": ".py",
   "mimetype": "text/x-python",
   "name": "python",
   "nbconvert_exporter": "python",
   "pygments_lexer": "ipython3",
   "version": "3.9.12"
  }
 },
 "nbformat": 4,
 "nbformat_minor": 5
}
