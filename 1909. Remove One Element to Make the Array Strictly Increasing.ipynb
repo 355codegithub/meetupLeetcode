{
 "cells": [
  {
   "cell_type": "code",
   "execution_count": 16,
   "id": "77eae33b",
   "metadata": {},
   "outputs": [
    {
     "ename": "SyntaxError",
     "evalue": "invalid syntax (2911978007.py, line 1)",
     "output_type": "error",
     "traceback": [
      "\u001b[0;36m  Input \u001b[0;32mIn [16]\u001b[0;36m\u001b[0m\n\u001b[0;31m    1909. Remove One Element to Make the Array Strictly Increasing\u001b[0m\n\u001b[0m          ^\u001b[0m\n\u001b[0;31mSyntaxError\u001b[0m\u001b[0;31m:\u001b[0m invalid syntax\n"
     ]
    }
   ],
   "source": [
    "1909. Remove One Element to Make the Array Strictly Increasing\n",
    "\n",
    "Plan:\n",
    "Given a 0-indexed integer array nums\n",
    "Return True if if it can be stricly increasing after removing 1 element\n",
    "strictly increasing if nums[i - 1] < nums[i]\n",
    "False Otherwise\n",
    "If the array is already strictly increasing, return true.\n",
    "\n",
    "Requirements:\n",
    "2 <= nums.length <= 1000\n",
    "1 <= nums[i] <= 1000\n",
    "\n",
    "Design:\n",
    "Step 1: Check if Already Strictly Increasing, return True.\n",
    "\n",
    "Code:\n",
    "\n",
    "Test:\n",
    "[1,2,10,5,7] True\n",
    "[2,3,1,2] False\n",
    "[1,1,1] False\n",
    "[100,21,100] True.\n",
    "\n",
    "Test Edge Cases:\n",
    "2 Elements only\n",
    "3 Elements only\n",
    "Last Digit Only.\n",
    "\n"
   ]
  },
  {
   "cell_type": "code",
   "execution_count": 75,
   "id": "4aa8f75e",
   "metadata": {},
   "outputs": [],
   "source": [
    "def canBeIncreasing(nums):\n",
    "    \n",
    "    tempDigit=nums[0]\n",
    "    alreadyIncreasing=True\n",
    "    print(\"tempDigit\")\n",
    "    print(tempDigit)\n",
    "    \n",
    "    if len(nums)==2:\n",
    "        return(True)\n",
    "    for k in nums[1:len(nums)]:\n",
    "        print(k)\n",
    "        if k<=tempDigit:\n",
    "            alreadyIncreasing=False\n",
    "    if alreadyIncreasing:\n",
    "        return(True)\n",
    "    else:\n",
    "        print(\"Not Strictly Increasing\")\n",
    "    print(nums)\n",
    "    \n",
    "###Logic of If you can Subtract 1, then return True.\n",
    "    prevDigit=nums[0]\n",
    "\n",
    "    for arrayIndex in range(1,len(nums)-1):\n",
    "        print(nums[arrayIndex])\n",
    "        if nums[arrayIndex]<=prevDigit:\n",
    "            print(\"Does not Keep Increasing\")\n",
    "            print(tempDigit)\n",
    "            print(nums[arrayIndex])\n",
    "            return(False)\n",
    "        \n",
    "        if prevDigit>nums[arrayIndex+1]:\n",
    "            print(\"This is not a strictly increasing Series.\")\n",
    "            return(False)\n",
    "        prevDigit=nums[arrayIndex]\n",
    "            \n",
    "            \n",
    "    \n",
    "#First, Detect if the digit does not increase\n",
    "#Then, see if you remove it, the series stays always increasing\n",
    "#1 1 2, remove middle 1, keep 1 2 3 is true\n",
    "\n"
   ]
  },
  {
   "cell_type": "code",
   "execution_count": 84,
   "id": "fa6fdeae",
   "metadata": {},
   "outputs": [],
   "source": [
    "inputList = [1, 2,3,4,5,1, 3, 4, 10, 20, 40, 80, 100]\n"
   ]
  },
  {
   "cell_type": "code",
   "execution_count": 85,
   "id": "a62baa8a",
   "metadata": {},
   "outputs": [
    {
     "name": "stdout",
     "output_type": "stream",
     "text": [
      "tempDigit\n",
      "1\n",
      "2\n",
      "3\n",
      "4\n",
      "5\n",
      "1\n",
      "3\n",
      "4\n",
      "10\n",
      "20\n",
      "40\n",
      "80\n",
      "100\n",
      "Not Strictly Increasing\n",
      "[1, 2, 3, 4, 5, 1, 3, 4, 10, 20, 40, 80, 100]\n",
      "2\n",
      "3\n",
      "4\n",
      "5\n",
      "This is not a strictly increasing Series.\n"
     ]
    },
    {
     "data": {
      "text/plain": [
       "False"
      ]
     },
     "execution_count": 85,
     "metadata": {},
     "output_type": "execute_result"
    }
   ],
   "source": [
    "canBeIncreasing(inputList)"
   ]
  },
  {
   "cell_type": "code",
   "execution_count": null,
   "id": "45f3b356",
   "metadata": {},
   "outputs": [],
   "source": []
  },
  {
   "cell_type": "code",
   "execution_count": null,
   "id": "96bbe5ae",
   "metadata": {},
   "outputs": [],
   "source": []
  }
 ],
 "metadata": {
  "kernelspec": {
   "display_name": "Python 3 (ipykernel)",
   "language": "python",
   "name": "python3"
  },
  "language_info": {
   "codemirror_mode": {
    "name": "ipython",
    "version": 3
   },
   "file_extension": ".py",
   "mimetype": "text/x-python",
   "name": "python",
   "nbconvert_exporter": "python",
   "pygments_lexer": "ipython3",
   "version": "3.9.12"
  }
 },
 "nbformat": 4,
 "nbformat_minor": 5
}
