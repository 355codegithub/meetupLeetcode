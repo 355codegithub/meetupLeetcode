{
 "cells": [
  {
   "cell_type": "code",
   "execution_count": null,
   "id": "f49226a7",
   "metadata": {},
   "outputs": [],
   "source": []
  },
  {
   "cell_type": "code",
   "execution_count": null,
   "id": "61d01f54",
   "metadata": {},
   "outputs": [],
   "source": []
  },
  {
   "cell_type": "code",
   "execution_count": 4,
   "id": "897fc6eb",
   "metadata": {},
   "outputs": [],
   "source": [
    "def twoSum(nums, target):\n",
    "    index1=-1\n",
    "    index2=-1\n",
    "    returnList=[]\n",
    "    for k in range(len(nums)):\n",
    "        difference=target-nums[k]\n",
    "\n",
    "        foundItem=difference in nums\n",
    "\n",
    "        if (foundItem):\n",
    "            index1=k\n",
    "            index2=nums.index(difference)\n",
    "            if index1!=index2:\n",
    "                returnList.append(index1)\n",
    "                returnList.append(index2)\n",
    "                return(returnList)\n",
    "    return(False)"
   ]
  },
  {
   "cell_type": "code",
   "execution_count": 7,
   "id": "61bf41ee",
   "metadata": {},
   "outputs": [],
   "source": [
    "inputList=[3,2,4]\n",
    "target=5"
   ]
  },
  {
   "cell_type": "code",
   "execution_count": null,
   "id": "b48d6368",
   "metadata": {},
   "outputs": [],
   "source": []
  },
  {
   "cell_type": "code",
   "execution_count": 8,
   "id": "789b8670",
   "metadata": {},
   "outputs": [
    {
     "data": {
      "text/plain": [
       "[0, 1]"
      ]
     },
     "execution_count": 8,
     "metadata": {},
     "output_type": "execute_result"
    }
   ],
   "source": [
    "twoSum(inputList,target)"
   ]
  },
  {
   "cell_type": "code",
   "execution_count": null,
   "id": "c53ddee0",
   "metadata": {},
   "outputs": [],
   "source": []
  },
  {
   "cell_type": "code",
   "execution_count": null,
   "id": "943d5d2d",
   "metadata": {},
   "outputs": [],
   "source": []
  },
  {
   "cell_type": "code",
   "execution_count": null,
   "id": "23786943",
   "metadata": {},
   "outputs": [],
   "source": []
  },
  {
   "cell_type": "code",
   "execution_count": null,
   "id": "dff57227",
   "metadata": {},
   "outputs": [],
   "source": []
  },
  {
   "cell_type": "code",
   "execution_count": null,
   "id": "db43e92b",
   "metadata": {},
   "outputs": [],
   "source": []
  },
  {
   "cell_type": "code",
   "execution_count": null,
   "id": "c7b79c04",
   "metadata": {},
   "outputs": [],
   "source": []
  }
 ],
 "metadata": {
  "kernelspec": {
   "display_name": "Python 3 (ipykernel)",
   "language": "python",
   "name": "python3"
  },
  "language_info": {
   "codemirror_mode": {
    "name": "ipython",
    "version": 3
   },
   "file_extension": ".py",
   "mimetype": "text/x-python",
   "name": "python",
   "nbconvert_exporter": "python",
   "pygments_lexer": "ipython3",
   "version": "3.9.12"
  }
 },
 "nbformat": 4,
 "nbformat_minor": 5
}
