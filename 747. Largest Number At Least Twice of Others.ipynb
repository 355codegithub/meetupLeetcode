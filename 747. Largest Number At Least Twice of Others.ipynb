{
 "cells": [
  {
   "cell_type": "code",
   "execution_count": 3,
   "id": "62e03632",
   "metadata": {},
   "outputs": [
    {
     "ename": "SyntaxError",
     "evalue": "invalid syntax (1463601878.py, line 1)",
     "output_type": "error",
     "traceback": [
      "\u001b[0;36m  Input \u001b[0;32mIn [3]\u001b[0;36m\u001b[0m\n\u001b[0;31m    https://leetcode.com/problems/largest-number-at-least-twice-of-others/description/\u001b[0m\n\u001b[0m          ^\u001b[0m\n\u001b[0;31mSyntaxError\u001b[0m\u001b[0;31m:\u001b[0m invalid syntax\n"
     ]
    }
   ],
   "source": [
    "https://leetcode.com/problems/largest-number-at-least-twice-of-others/description/\n",
    "\n",
    "Plan:\n",
    "nums where largest is unique\n",
    "ADetermine if largest element is at least 2x everyone else\n",
    "if so, return element index\n",
    "if not, return -1\n",
    "\n",
    "Requirements:\n",
    "Find Largest Number, then delete it. then see if the entire is smaller than 1/2 of it.\n",
    "or, find 2nd largest, and see if it's half.\n",
    "\n",
    "\n",
    "\n",
    "Largest 2 numbers, largest has to be 2x 2nd largest.\n",
    "Design:\n",
    "for loop, if statement\n",
    "or, find 2nd largest\n",
    "or, sort it\n",
    "\n",
    "Code:\n",
    "Test:\n",
    "nums = [3,6,1,0]\n",
    "Yes, so we return 1 index of 6.\n",
    "nums = [1,2,3,4]\n",
    "Output: -1\n",
    "not 2x bigger than everyone else, so we return -1\n",
    "2 <= nums.length <= 50\n",
    "0 <= nums[i] <= 100\n"
   ]
  },
  {
   "cell_type": "code",
   "execution_count": 48,
   "id": "5fb09030",
   "metadata": {},
   "outputs": [],
   "source": [
    "def dominantIndex(nums):\n",
    "    backupNums=nums\n",
    "    nums=sorted(nums)\n",
    "    largest=nums[len(nums)-1]\n",
    "    secondLargest=nums[len(nums)-2]\n",
    "    #print(nums)\n",
    "    #print(largest)\n",
    "    #print(secondLargest)\n",
    "    if largest>=secondLargest*2:\n",
    "        #print(\"Largest is greater than twice second largest\")\n",
    "        #print(largest)\n",
    "        #print(backupNums.index(largest))\n",
    "        return(backupNums.index(largest))\n",
    "        \n",
    "    else:\n",
    "        return(-1)\n",
    "        #print(\"Largest is not greater than twice second largest\")"
   ]
  },
  {
   "cell_type": "code",
   "execution_count": 53,
   "id": "6613569f",
   "metadata": {},
   "outputs": [],
   "source": [
    "inputNums=[1,2,3,4]"
   ]
  },
  {
   "cell_type": "code",
   "execution_count": 54,
   "id": "13535b08",
   "metadata": {},
   "outputs": [
    {
     "data": {
      "text/plain": [
       "-1"
      ]
     },
     "execution_count": 54,
     "metadata": {},
     "output_type": "execute_result"
    }
   ],
   "source": [
    "dominantIndex(inputNums)"
   ]
  },
  {
   "cell_type": "code",
   "execution_count": null,
   "id": "1d3d07e3",
   "metadata": {},
   "outputs": [],
   "source": []
  },
  {
   "cell_type": "code",
   "execution_count": null,
   "id": "7029a0b4",
   "metadata": {},
   "outputs": [],
   "source": []
  }
 ],
 "metadata": {
  "kernelspec": {
   "display_name": "Python 3 (ipykernel)",
   "language": "python",
   "name": "python3"
  },
  "language_info": {
   "codemirror_mode": {
    "name": "ipython",
    "version": 3
   },
   "file_extension": ".py",
   "mimetype": "text/x-python",
   "name": "python",
   "nbconvert_exporter": "python",
   "pygments_lexer": "ipython3",
   "version": "3.9.12"
  }
 },
 "nbformat": 4,
 "nbformat_minor": 5
}
