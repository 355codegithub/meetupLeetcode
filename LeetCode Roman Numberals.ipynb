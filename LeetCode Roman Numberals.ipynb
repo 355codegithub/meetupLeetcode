{
 "cells": [
  {
   "cell_type": "code",
   "execution_count": 1,
   "id": "8ccf7457",
   "metadata": {},
   "outputs": [],
   "source": [
    "def romanToInt(s):\n",
    "    totalSum=0\n",
    "    lettersList=list(s)\n",
    "    listLength=len(lettersList)\n",
    "    \n",
    "    while(listLength>1):\n",
    "        print(totalSum)\n",
    "        print(lettersList)\n",
    "\n",
    "        if lettersList[0]+lettersList[1]==\"IV\":\n",
    "            totalSum=totalSum+4\n",
    "            del lettersList[0:2]\n",
    "        elif lettersList[0]+lettersList[1]==\"XL\":\n",
    "            totalSum=totalSum+40\n",
    "            del lettersList[0:2]\n",
    "        elif lettersList[0]+lettersList[1]==\"XC\":\n",
    "            totalSum=totalSum+90\n",
    "            del lettersList[0:2]\n",
    "        elif lettersList[0]+lettersList[1]==\"CD\":\n",
    "            totalSum=totalSum+400\n",
    "            del lettersList[0:2]\n",
    "        elif lettersList[0]+lettersList[1]==\"CM\":\n",
    "            totalSum=totalSum+900\n",
    "            del lettersList[0:2]\n",
    "            \n",
    "        elif lettersList[0]==\"I\":\n",
    "            totalSum=totalSum+1\n",
    "            del lettersList[0]\n",
    "        elif lettersList[0]==\"V\":\n",
    "            totalSum=totalSum+5\n",
    "            del lettersList[0]\n",
    "        elif lettersList[0]==\"X\":\n",
    "            totalSum=totalSum+10\n",
    "            del lettersList[0]\n",
    "        elif lettersList[0]==\"L\":\n",
    "            print(\"Deleting L\")\n",
    "            totalSum=totalSum+50\n",
    "            del lettersList[0]\n",
    "        elif lettersList[0]==\"C\":\n",
    "            totalSum=totalSum+100\n",
    "            del lettersList[0]\n",
    "        elif lettersList[0]==\"D\":\n",
    "            totalSum=totalSum+500\n",
    "            del lettersList[0]\n",
    "        elif lettersList[0]==\"M\":\n",
    "            totalSum=totalSum+1000\n",
    "            del lettersList[0]\n",
    "        listLength=len(lettersList)\n",
    "        print(totalSum)\n",
    "        print(lettersList)\n",
    "\n",
    "    if listLength>0:\n",
    "        if lettersList[0]==\"I\":\n",
    "            totalSum=totalSum+1\n",
    "            del lettersList[0]\n",
    "\n",
    "        elif lettersList[0]==\"V\":\n",
    "            totalSum=totalSum+5\n",
    "            del lettersList[0]\n",
    "\n",
    "        elif lettersList[0]==\"X\":\n",
    "            totalSum=totalSum+10\n",
    "            del lettersList[0]\n",
    "\n",
    "        elif lettersList[0]==\"L\":\n",
    "            totalSum=totalSum+50\n",
    "            del lettersList[0]\n",
    "\n",
    "        elif lettersList[0]==\"C\":\n",
    "            totalSum=totalSum+100\n",
    "            del lettersList[0]\n",
    "\n",
    "        elif lettersList[0]==\"D\":\n",
    "            totalSum=totalSum+500\n",
    "            del lettersList[0]\n",
    "\n",
    "        elif lettersList[0]==\"M\":\n",
    "            totalSum=totalSum+1000\n",
    "            del lettersList[0]\n",
    "    \n",
    "    print(totalSum)\n",
    "    print(lettersList)\n",
    "\n",
    "    del lettersList[0:1]\n",
    "    return(totalSum)"
   ]
  },
  {
   "cell_type": "code",
   "execution_count": null,
   "id": "106075a3",
   "metadata": {},
   "outputs": [],
   "source": []
  },
  {
   "cell_type": "code",
   "execution_count": 2,
   "id": "063a6097",
   "metadata": {
    "scrolled": true
   },
   "outputs": [
    {
     "name": "stdout",
     "output_type": "stream",
     "text": [
      "0\n",
      "['M', 'M', 'C', 'C', 'C', 'X', 'V']\n",
      "1000\n",
      "['M', 'C', 'C', 'C', 'X', 'V']\n",
      "1000\n",
      "['M', 'C', 'C', 'C', 'X', 'V']\n",
      "2000\n",
      "['C', 'C', 'C', 'X', 'V']\n",
      "2000\n",
      "['C', 'C', 'C', 'X', 'V']\n",
      "2100\n",
      "['C', 'C', 'X', 'V']\n",
      "2100\n",
      "['C', 'C', 'X', 'V']\n",
      "2200\n",
      "['C', 'X', 'V']\n",
      "2200\n",
      "['C', 'X', 'V']\n",
      "2300\n",
      "['X', 'V']\n",
      "2300\n",
      "['X', 'V']\n",
      "2310\n",
      "['V']\n",
      "2315\n",
      "[]\n"
     ]
    },
    {
     "data": {
      "text/plain": [
       "2315"
      ]
     },
     "execution_count": 2,
     "metadata": {},
     "output_type": "execute_result"
    }
   ],
   "source": [
    "romanToInt(\"MMCCCXV\")"
   ]
  },
  {
   "cell_type": "code",
   "execution_count": null,
   "id": "9fb54ef3",
   "metadata": {},
   "outputs": [],
   "source": []
  },
  {
   "cell_type": "code",
   "execution_count": null,
   "id": "2ef0fec0",
   "metadata": {},
   "outputs": [],
   "source": []
  },
  {
   "cell_type": "code",
   "execution_count": null,
   "id": "34681b2b",
   "metadata": {},
   "outputs": [],
   "source": []
  },
  {
   "cell_type": "code",
   "execution_count": null,
   "id": "7bf7f062",
   "metadata": {},
   "outputs": [],
   "source": []
  },
  {
   "cell_type": "code",
   "execution_count": null,
   "id": "efd839b5",
   "metadata": {},
   "outputs": [],
   "source": []
  },
  {
   "cell_type": "code",
   "execution_count": null,
   "id": "0956f55b",
   "metadata": {},
   "outputs": [],
   "source": []
  }
 ],
 "metadata": {
  "kernelspec": {
   "display_name": "Python 3 (ipykernel)",
   "language": "python",
   "name": "python3"
  },
  "language_info": {
   "codemirror_mode": {
    "name": "ipython",
    "version": 3
   },
   "file_extension": ".py",
   "mimetype": "text/x-python",
   "name": "python",
   "nbconvert_exporter": "python",
   "pygments_lexer": "ipython3",
   "version": "3.9.12"
  }
 },
 "nbformat": 4,
 "nbformat_minor": 5
}
