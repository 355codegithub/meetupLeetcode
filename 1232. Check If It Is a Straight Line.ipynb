{
 "cells": [
  {
   "cell_type": "code",
   "execution_count": 68,
   "id": "45c2c5b8",
   "metadata": {},
   "outputs": [
    {
     "ename": "SyntaxError",
     "evalue": "invalid syntax (1296827566.py, line 1)",
     "output_type": "error",
     "traceback": [
      "\u001b[0;36m  Input \u001b[0;32mIn [68]\u001b[0;36m\u001b[0m\n\u001b[0;31m    1232. Check If It Is a Straight Line\u001b[0m\n\u001b[0m          ^\u001b[0m\n\u001b[0;31mSyntaxError\u001b[0m\u001b[0;31m:\u001b[0m invalid syntax\n"
     ]
    }
   ],
   "source": [
    "1232. Check If It Is a Straight Line\n",
    "\n",
    "You are given an array coordinates, coordinates[i] = [x, y], \n",
    "where [x, y] represents the coordinate of a point. \n",
    "Check if these points make a straight line in the XY plane.\n",
    "Input: coordinates = [[1,2],[2,3],[3,4],[4,5],[5,6],[6,7]]\n",
    "coordinates[i].length == 2\n",
    "-10^4 <= coordinates[i][0], coordinates[i][1] <= 10^4\n",
    "\n",
    "#edge cases starts at 0,0. Don't know what the slope of the line is.\n",
    "#go to second value to find steepness.\n",
    "\n",
    "#Software Development Lifecycle.\n",
    "#PLANNING. Read the Question. Restate It. Input: List of Coordinates. Output: Is it a Line.\n",
    "\n",
    "#REQUIREMENTS:\n",
    "coordinates contains no duplicate point.\n",
    "2 <= coordinates.length <= 1000\n",
    "coordinates[i].length == 2\n",
    "Return True/False\n",
    "\n",
    "#DESIGN\n",
    "- Calculate the Slope between 2 points. and check for all points.\n",
    "- y=mx+b\n",
    "- y-y1=m(x-x1)\n",
    "- Find the Equation of the Line!!!!! ### Do not Do This. \n",
    "- Add the slope y and the x between all points. #Try this method. add delta y delta x to each point.\n",
    "\n",
    "#CODING\n",
    "\n",
    "#TESTING\n",
    "#Test code to accept vertical lines. this will break the slope calculation.\n",
    "\n",
    "coordinates = [[1,2],[2,3],[3,4],[4,5],[5,6],[6,7]]\n",
    "coordinates = [[1,1],[2,2],[3,4],[4,5],[5,6],[7,7]] \n",
    "#Horizontal Line [[1,6],[2,6],[4,6]]\n",
    "#Vertical Line [[5,6],[5,16],[5,26]]\n",
    "#Negative Slope [[-10,10],[0,0],[5,-5]]\n",
    "#DEPLOYMENT\n"
   ]
  },
  {
   "cell_type": "code",
   "execution_count": 149,
   "id": "86e503f3",
   "metadata": {},
   "outputs": [],
   "source": [
    "def checkStraightLine(coordinates):\n",
    "    #Find the Slope\n",
    "    if len(coordinates)<3:\n",
    "        return(True)\n",
    "    point1X=coordinates[0][0]\n",
    "    point1Y=coordinates[0][1]\n",
    "    point2X=coordinates[1][0]\n",
    "    point2Y=coordinates[1][1]\n",
    "\n",
    "    if point1X==point2X:\n",
    "        verticalLine=True\n",
    "        for k in range(1,len(coordinates)):\n",
    "            if point1X!=coordinates[k][0]:\n",
    "                verticalLine=False\n",
    "                return(False)\n",
    "        if verticalLine:\n",
    "            return(True)\n",
    "\n",
    "\n",
    "    slope=(point2Y-point1Y)/(point2X-point1X)\n",
    "    #y=mx+b\n",
    "    #find the equation for every point. if it changes, it is broken.\n",
    "    print(\"Slope: \"+str(slope))\n",
    "    print(\"Point1X\")\n",
    "    print(point1X)\n",
    "    print(\"Point1Y\")\n",
    "    print(point1Y)\n",
    "    print(\"Point2X\")\n",
    "    print(point2X)\n",
    "    print(\"Point2Y\")\n",
    "    print(point2Y)\n",
    "    print(coordinates)\n",
    "\n",
    "    for pairs in coordinates[2:len(coordinates)]:\n",
    "        print(pairs)\n",
    "        point3X=pairs[0]\n",
    "        point3Y=pairs[1]\n",
    "        print(slope)\n",
    "        print(\"Point3X\")\n",
    "        print(point3X)\n",
    "        print(\"Point3Y\")\n",
    "        print(point3Y)\n",
    "        if point3X==point1X:\n",
    "                return(False)\n",
    "        newSlope=(point3Y-point1Y)/(point3X-point1X)\n",
    "        if slope!=newSlope:\n",
    "            return(False)\n",
    "        print(slope)\n",
    "    return(True)"
   ]
  },
  {
   "cell_type": "code",
   "execution_count": 150,
   "id": "66767466",
   "metadata": {},
   "outputs": [],
   "source": [
    "#inputList=[[1,1],[2,2],[3,3],[4,4],[9,5],[7,7]] \n",
    "inputList=[[0,0],[0,5],[5,5],[5,0]]\n"
   ]
  },
  {
   "cell_type": "code",
   "execution_count": 151,
   "id": "05c0985d",
   "metadata": {},
   "outputs": [
    {
     "data": {
      "text/plain": [
       "False"
      ]
     },
     "execution_count": 151,
     "metadata": {},
     "output_type": "execute_result"
    }
   ],
   "source": [
    "checkStraightLine(inputList)"
   ]
  },
  {
   "cell_type": "code",
   "execution_count": null,
   "id": "c47f161e",
   "metadata": {},
   "outputs": [],
   "source": []
  },
  {
   "cell_type": "code",
   "execution_count": null,
   "id": "d2c511c6",
   "metadata": {},
   "outputs": [],
   "source": []
  },
  {
   "cell_type": "code",
   "execution_count": null,
   "id": "eb2e1cda",
   "metadata": {},
   "outputs": [],
   "source": []
  },
  {
   "cell_type": "code",
   "execution_count": null,
   "id": "31f2fb5e",
   "metadata": {},
   "outputs": [],
   "source": []
  }
 ],
 "metadata": {
  "kernelspec": {
   "display_name": "Python 3 (ipykernel)",
   "language": "python",
   "name": "python3"
  },
  "language_info": {
   "codemirror_mode": {
    "name": "ipython",
    "version": 3
   },
   "file_extension": ".py",
   "mimetype": "text/x-python",
   "name": "python",
   "nbconvert_exporter": "python",
   "pygments_lexer": "ipython3",
   "version": "3.9.12"
  }
 },
 "nbformat": 4,
 "nbformat_minor": 5
}
