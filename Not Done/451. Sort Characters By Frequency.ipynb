{
 "cells": [
  {
   "cell_type": "code",
   "execution_count": null,
   "id": "254b2eeb",
   "metadata": {},
   "outputs": [],
   "source": [
    "Planning:\n",
    "Sort by decreasing order of letter\n",
    "    \n",
    "Requirements:\n",
    "1 <= s.length <= 5 * 105\n",
    "s consists of uppercase and lowercase English letters and digits.\n",
    "\n",
    "Design:\n",
    "0) xBreak into letters\n",
    "1) xSort by Letter\n",
    "2) xCount Frequency of Letters\n",
    "3) xSort by Frequency\n",
    "4) Print out all the letters by sorted Frequency\n",
    "\n",
    "Data:\n",
    "List to store the raw letters\n",
    "Dictionary to store the frequency\n",
    "Sort the Frequency somehow\n",
    "and print out letters by frequency\n",
    "\n",
    "\n",
    "Coding:\n",
    "Testing:\n",
    "\"tree\" -> eert\n",
    "cccaaa -> aaaccc\n",
    "Aabb bbAa Different Characters A and a\n",
    "\n",
    "    \n",
    "Deployment:\n"
   ]
  },
  {
   "cell_type": "code",
   "execution_count": 39,
   "id": "dc693e73",
   "metadata": {},
   "outputs": [
    {
     "data": {
      "text/plain": [
       "{'Tim': 2}"
      ]
     },
     "execution_count": 39,
     "metadata": {},
     "output_type": "execute_result"
    }
   ],
   "source": [
    "testDictionary={}\n",
    "testDictionary['Tim']=1\n",
    "if 'Tim' in testDictionary:\n",
    "    testDictionary['Tim']=testDictionary['Tim']+1\n",
    "testDictionary\n",
    "\n",
    "    "
   ]
  },
  {
   "cell_type": "code",
   "execution_count": 80,
   "id": "d4c5b634",
   "metadata": {},
   "outputs": [],
   "source": [
    "def frequencySort(s):\n",
    "    letterFrequency={}\n",
    "    \n",
    "    s=sorted(s)\n",
    "    for letter in s:\n",
    "        print(letter)\n",
    "        if letter in letterFrequency:\n",
    "                letterFrequency[letter]=letterFrequency[letter]+1\n",
    "        else:\n",
    "                letterFrequency[letter]=1\n",
    "    print(letterFrequency)\n",
    "    #print(sorted(letterFrequency.keys()))\n",
    "    #print(sorted(letterFrequency.values(), reverse=True))\n",
    "    print(sorted(letterFrequency.items()))\n",
    "\n",
    "    #sorted(key)\n",
    "    \n",
    "    print(sorted(letterFrequency, key=lambda i: i[value]))\n",
    "\n",
    "    #I need to find the key that is paired with the sorted value list\n",
    "    # I need to track the keys based on the sorted value list\n",
    "    \n",
    "    #Use a Sorted Dictionary\n",
    "    # or, I should use a lambda function\n",
    "#     print(sorted(key_value.items(), key=lambda kv:\n",
    "#                 (kv[1], kv[0])))\n",
    "        \n",
    "    #s=sort(list)\n",
    "    #print(s)\n",
    "    "
   ]
  },
  {
   "cell_type": "code",
   "execution_count": 81,
   "id": "9a8c4d86",
   "metadata": {
    "scrolled": true
   },
   "outputs": [
    {
     "name": "stdout",
     "output_type": "stream",
     "text": [
      "a\n",
      "e\n",
      "e\n",
      "h\n",
      "l\n",
      "n\n",
      "p\n",
      "t\n",
      "{'a': 1, 'e': 2, 'h': 1, 'l': 1, 'n': 1, 'p': 1, 't': 1}\n",
      "[('a', 1), ('e', 2), ('h', 1), ('l', 1), ('n', 1), ('p', 1), ('t', 1)]\n"
     ]
    },
    {
     "ename": "NameError",
     "evalue": "name 'value' is not defined",
     "output_type": "error",
     "traceback": [
      "\u001b[0;31m---------------------------------------------------------------------------\u001b[0m",
      "\u001b[0;31mNameError\u001b[0m                                 Traceback (most recent call last)",
      "Input \u001b[0;32mIn [81]\u001b[0m, in \u001b[0;36m<cell line: 1>\u001b[0;34m()\u001b[0m\n\u001b[0;32m----> 1\u001b[0m \u001b[43mfrequencySort\u001b[49m\u001b[43m(\u001b[49m\u001b[38;5;124;43m\"\u001b[39;49m\u001b[38;5;124;43melephant\u001b[39;49m\u001b[38;5;124;43m\"\u001b[39;49m\u001b[43m)\u001b[49m\n",
      "Input \u001b[0;32mIn [80]\u001b[0m, in \u001b[0;36mfrequencySort\u001b[0;34m(s)\u001b[0m\n\u001b[1;32m     13\u001b[0m \u001b[38;5;28mprint\u001b[39m(\u001b[38;5;28msorted\u001b[39m(letterFrequency\u001b[38;5;241m.\u001b[39mitems()))\n\u001b[1;32m     15\u001b[0m \u001b[38;5;66;03m#sorted(key)\u001b[39;00m\n\u001b[0;32m---> 17\u001b[0m \u001b[38;5;28mprint\u001b[39m(\u001b[38;5;28;43msorted\u001b[39;49m\u001b[43m(\u001b[49m\u001b[43mletterFrequency\u001b[49m\u001b[43m,\u001b[49m\u001b[43m \u001b[49m\u001b[43mkey\u001b[49m\u001b[38;5;241;43m=\u001b[39;49m\u001b[38;5;28;43;01mlambda\u001b[39;49;00m\u001b[43m \u001b[49m\u001b[43mi\u001b[49m\u001b[43m:\u001b[49m\u001b[43m \u001b[49m\u001b[43mi\u001b[49m\u001b[43m[\u001b[49m\u001b[43mvalue\u001b[49m\u001b[43m]\u001b[49m\u001b[43m)\u001b[49m)\n",
      "Input \u001b[0;32mIn [80]\u001b[0m, in \u001b[0;36mfrequencySort.<locals>.<lambda>\u001b[0;34m(i)\u001b[0m\n\u001b[1;32m     13\u001b[0m \u001b[38;5;28mprint\u001b[39m(\u001b[38;5;28msorted\u001b[39m(letterFrequency\u001b[38;5;241m.\u001b[39mitems()))\n\u001b[1;32m     15\u001b[0m \u001b[38;5;66;03m#sorted(key)\u001b[39;00m\n\u001b[0;32m---> 17\u001b[0m \u001b[38;5;28mprint\u001b[39m(\u001b[38;5;28msorted\u001b[39m(letterFrequency, key\u001b[38;5;241m=\u001b[39m\u001b[38;5;28;01mlambda\u001b[39;00m i: i[\u001b[43mvalue\u001b[49m]))\n",
      "\u001b[0;31mNameError\u001b[0m: name 'value' is not defined"
     ]
    }
   ],
   "source": [
    "frequencySort(\"elephant\")"
   ]
  },
  {
   "cell_type": "code",
   "execution_count": null,
   "id": "87dd12fb",
   "metadata": {},
   "outputs": [],
   "source": []
  },
  {
   "cell_type": "code",
   "execution_count": null,
   "id": "daddfac6",
   "metadata": {},
   "outputs": [],
   "source": []
  }
 ],
 "metadata": {
  "kernelspec": {
   "display_name": "Python 3 (ipykernel)",
   "language": "python",
   "name": "python3"
  },
  "language_info": {
   "codemirror_mode": {
    "name": "ipython",
    "version": 3
   },
   "file_extension": ".py",
   "mimetype": "text/x-python",
   "name": "python",
   "nbconvert_exporter": "python",
   "pygments_lexer": "ipython3",
   "version": "3.9.12"
  }
 },
 "nbformat": 4,
 "nbformat_minor": 5
}
