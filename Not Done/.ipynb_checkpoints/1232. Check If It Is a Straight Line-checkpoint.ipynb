{
 "cells": [
  {
   "cell_type": "code",
   "execution_count": null,
   "id": "45c2c5b8",
   "metadata": {},
   "outputs": [],
   "source": [
    "1232. Check If It Is a Straight Line\n",
    "\n",
    "You are given an array coordinates, coordinates[i] = [x, y], \n",
    "where [x, y] represents the coordinate of a point. \n",
    "Check if these points make a straight line in the XY plane.\n",
    "Input: coordinates = [[1,2],[2,3],[3,4],[4,5],[5,6],[6,7]]\n",
    "coordinates[i].length == 2\n",
    "-10^4 <= coordinates[i][0], coordinates[i][1] <= 10^4\n",
    "\n",
    "#edge cases starts at 0,0. Don't know what the slope of the line is.\n",
    "#go to second value to find steepness.\n",
    "\n",
    "#Software Development Lifecycle.\n",
    "#PLANNING. Read the Question. Restate It. Input: List of Coordinates. Output: Is it a Line.\n",
    "\n",
    "#REQUIREMENTS:\n",
    "coordinates contains no duplicate point.\n",
    "2 <= coordinates.length <= 1000\n",
    "coordinates[i].length == 2\n",
    "Return True/False\n",
    "\n",
    "#DESIGN\n",
    "- Calculate the Slope between 2 points. and check for all points.\n",
    "- y=mx+b\n",
    "- y-y1=m(x-x1)\n",
    "- Find the Equation of the Line!!!!! ### Do not Do This. \n",
    "- Add the slope y and the x between all points. #Try this method. add delta y delta x to each point.\n",
    "\n",
    "\n",
    "#CODING\n",
    "\n",
    "#TESTING\n",
    "#Test code to accept vertical lines. this will break the slope calculation.\n",
    "\n",
    "coordinates = [[1,2],[2,3],[3,4],[4,5],[5,6],[6,7]]\n",
    "coordinates = [[1,1],[2,2],[3,4],[4,5],[5,6],[7,7]] \n",
    "#Horizontal Line [[1,6],[2,6],[4,6]]\n",
    "#Vertical Line [[5,6],[5,16],[5,26]]\n",
    "#Negative Slope [[-10,10],[0,0],[5,-5]]\n",
    "#DEPLOYMENT\n",
    "\n",
    "    \n",
    "    \n"
   ]
  },
  {
   "cell_type": "code",
   "execution_count": 37,
   "id": "a1623250",
   "metadata": {},
   "outputs": [],
   "source": [
    "def checkStraightLine(coordinates):\n",
    "    print(coordinates)\n",
    "    #Find the Slope\n",
    "    point1X=inputList[0][0]\n",
    "    point1Y=inputList[0][1]\n",
    "    point2X=inputList[1][0]\n",
    "    point2Y=inputList[1][1]\n",
    "    slope=(point2Y-point1Y)/(point2X-point1X)\n",
    "    #y=mx+b\n",
    "    #find the equation for every point. if it changes, it is broken.\n",
    "    #problem with this approach, is what happens if the first two points are off.\n",
    "    #i don't know if my first two points are correct.\n",
    "    #floating point errors. delta. between pair of coordinates large number through the way.\n",
    "    #200.000 something\n",
    "    point3X=inputList[2][0]\n",
    "    point3Y=inputList[2][1]\n",
    "    \n",
    "    intercept=point3Y-slope*point3X\n",
    "    print(\"Y=MX+B\")\n",
    "    print(\"slope: \"+str(slope))\n",
    "    print(\"intercept: \"+str(intercept))\n",
    "    print(\"Point1X\")\n",
    "    print(point1X)\n",
    "    print(\"Point1Y\")\n",
    "    print(point1Y)\n",
    "    print(\"Point1X\")\n",
    "    print(point2X)\n",
    "    print(\"Point1Y\")\n",
    "    print(point2Y)"
   ]
  },
  {
   "cell_type": "code",
   "execution_count": 38,
   "id": "66767466",
   "metadata": {},
   "outputs": [],
   "source": [
    "inputList=[[1,1],[2,2],[3,4],[4,5],[5,6],[7,7]] "
   ]
  },
  {
   "cell_type": "code",
   "execution_count": 39,
   "id": "05c0985d",
   "metadata": {},
   "outputs": [
    {
     "name": "stdout",
     "output_type": "stream",
     "text": [
      "[[1, 1], [2, 2], [3, 4], [4, 5], [5, 6], [7, 7]]\n",
      "Y=MX+B\n",
      "slope: 1.0\n",
      "intercept: 1.0\n",
      "Point1X\n",
      "1\n",
      "Point1Y\n",
      "1\n",
      "Point1X\n",
      "2\n",
      "Point1Y\n",
      "2\n"
     ]
    }
   ],
   "source": [
    "checkStraightLine(inputList)"
   ]
  },
  {
   "cell_type": "code",
   "execution_count": null,
   "id": "c47f161e",
   "metadata": {},
   "outputs": [],
   "source": []
  },
  {
   "cell_type": "code",
   "execution_count": null,
   "id": "d2c511c6",
   "metadata": {},
   "outputs": [],
   "source": []
  }
 ],
 "metadata": {
  "kernelspec": {
   "display_name": "Python 3 (ipykernel)",
   "language": "python",
   "name": "python3"
  },
  "language_info": {
   "codemirror_mode": {
    "name": "ipython",
    "version": 3
   },
   "file_extension": ".py",
   "mimetype": "text/x-python",
   "name": "python",
   "nbconvert_exporter": "python",
   "pygments_lexer": "ipython3",
   "version": "3.9.12"
  }
 },
 "nbformat": 4,
 "nbformat_minor": 5
}
