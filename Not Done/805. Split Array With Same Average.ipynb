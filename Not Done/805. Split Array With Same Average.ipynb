{
 "cells": [
  {
   "cell_type": "code",
   "execution_count": 59,
   "id": "4df1648f",
   "metadata": {},
   "outputs": [],
   "source": [
    "#805. Split Array With Same Average"
   ]
  },
  {
   "cell_type": "code",
   "execution_count": 60,
   "id": "5370a98b",
   "metadata": {
    "scrolled": true
   },
   "outputs": [
    {
     "ename": "SyntaxError",
     "evalue": "invalid syntax (2048196501.py, line 2)",
     "output_type": "error",
     "traceback": [
      "\u001b[0;36m  Input \u001b[0;32mIn [60]\u001b[0;36m\u001b[0m\n\u001b[0;31m    nums into A and B\u001b[0m\n\u001b[0m         ^\u001b[0m\n\u001b[0;31mSyntaxError\u001b[0m\u001b[0;31m:\u001b[0m invalid syntax\n"
     ]
    }
   ],
   "source": [
    "#Planning\n",
    "nums into A and B\n",
    "Avg(A) = Avg(B)\n",
    "\n",
    "#Requirements\n",
    "Return true or False\n",
    "#Design\n",
    "2 Arrays. Find Average.\n",
    "\n",
    "#Coding\n",
    "\n",
    "#Testing\n",
    "up to 30 Elements.\n",
    "and Up to 10^4 Value.\n"
   ]
  },
  {
   "cell_type": "code",
   "execution_count": 70,
   "id": "e5504af9",
   "metadata": {},
   "outputs": [],
   "source": [
    "def splitArraySameAverage(nums):\n",
    "    nums=sorted(nums)\n",
    "    print(nums)\n",
    "    #Divide into two lists\n",
    "    list1=[]\n",
    "    list2=[]\n",
    "    #find average of list\n",
    "    averageNums=sum(nums)/len(nums)\n",
    "    print(averageNums)\n",
    "    #practice: first two list 1, second two list 2\n",
    "    \n",
    "    #the hard part is traversing the list\n",
    "    # and knowing which elements to place  to \n",
    "    #list 1 vs 2\n",
    "    \n",
    "    for index in range(len(nums)):\n",
    "        if index<2:\n",
    "            list1.append(nums[index])\n",
    "        else:\n",
    "            list2.append(nums[index])\n",
    "    print(list1)\n",
    "    avglist1=sum(list1)/len(list1)\n",
    "    print(list2)\n",
    "    avglist2=sum(list2)/len(list2)\n",
    "    \n",
    "    if avglist1==avglist2:\n",
    "        return(True)\n",
    "    else:\n",
    "        return(False)"
   ]
  },
  {
   "cell_type": "code",
   "execution_count": 73,
   "id": "1f81a06b",
   "metadata": {},
   "outputs": [],
   "source": [
    "inputList=[3,3,3,3]"
   ]
  },
  {
   "cell_type": "code",
   "execution_count": null,
   "id": "ca86654a",
   "metadata": {},
   "outputs": [],
   "source": []
  },
  {
   "cell_type": "code",
   "execution_count": 74,
   "id": "eb24a7f6",
   "metadata": {},
   "outputs": [
    {
     "name": "stdout",
     "output_type": "stream",
     "text": [
      "[3, 3, 3, 3]\n",
      "3.0\n",
      "[3, 3]\n",
      "[3, 3]\n"
     ]
    },
    {
     "data": {
      "text/plain": [
       "True"
      ]
     },
     "execution_count": 74,
     "metadata": {},
     "output_type": "execute_result"
    }
   ],
   "source": [
    "splitArraySameAverage(inputList)"
   ]
  },
  {
   "cell_type": "code",
   "execution_count": null,
   "id": "b4f99665",
   "metadata": {},
   "outputs": [],
   "source": []
  },
  {
   "cell_type": "code",
   "execution_count": null,
   "id": "138b2c16",
   "metadata": {},
   "outputs": [],
   "source": []
  },
  {
   "cell_type": "code",
   "execution_count": null,
   "id": "2b12c4bc",
   "metadata": {},
   "outputs": [],
   "source": []
  },
  {
   "cell_type": "code",
   "execution_count": null,
   "id": "4834f226",
   "metadata": {},
   "outputs": [],
   "source": []
  }
 ],
 "metadata": {
  "kernelspec": {
   "display_name": "Python 3 (ipykernel)",
   "language": "python",
   "name": "python3"
  },
  "language_info": {
   "codemirror_mode": {
    "name": "ipython",
    "version": 3
   },
   "file_extension": ".py",
   "mimetype": "text/x-python",
   "name": "python",
   "nbconvert_exporter": "python",
   "pygments_lexer": "ipython3",
   "version": "3.9.12"
  }
 },
 "nbformat": 4,
 "nbformat_minor": 5
}
