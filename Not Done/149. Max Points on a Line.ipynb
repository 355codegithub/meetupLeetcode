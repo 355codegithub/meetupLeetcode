{
 "cells": [
  {
   "cell_type": "code",
   "execution_count": null,
   "id": "4d553546",
   "metadata": {},
   "outputs": [],
   "source": [
    "149. Max Points on a Line\n",
    "\n"
   ]
  },
  {
   "cell_type": "code",
   "execution_count": null,
   "id": "4fc638c4",
   "metadata": {},
   "outputs": [],
   "source": [
    "#Plan:\n",
    "Given an array of points where points[i] = [xi, yi] represents a point on the X-Y plane,\n",
    "\n",
    "#Requirements:\n",
    "return the maximum number of points that lie on the same straight line.\n",
    "\n",
    "#Design:\n",
    "x1) how are points co-planar?. y=mx+b. Plug in change in X for change in Y.\n",
    "2a) Find the line that has the most points on it. \n",
    "for loop. More efficiently. \n",
    "2) how many points are co-planar? Plug in as many points as possible and count.\n",
    "3) return the line that has most points on it. store coplanar points in a dictionary and return the highest.\n",
    "\n",
    "Step 1: I did before in the last exercise \n",
    "1232. Check If It Is a Straight Line\n",
    "\n",
    "Step 2: Store number of Points in a counter.\n",
    "    # We don't have a reference point where line passes through. how many points line pass through. get line with maximum point.\n",
    "    \n",
    "\n",
    "Step 3: Return the line with most points in it. \n",
    "\n",
    "#Code:\n",
    "#Test:\n",
    "[[1,1],[2,2],[3,3]] = 3\n",
    "[[1,1],[3,2],[5,3],[4,1],[2,3],[1,4]] = 4\n",
    "1 <= points.length <= 300\n",
    "points[i].length == 2\n",
    "-10^4 <= xi, yi <= 10^4\n",
    "\n",
    "#Deploy:"
   ]
  },
  {
   "cell_type": "code",
   "execution_count": 28,
   "id": "38f6ab88",
   "metadata": {},
   "outputs": [],
   "source": [
    "def maxPoints(points):\n",
    "    print(points)\n",
    "    point1x=points[0][0]\n",
    "    point1y=points[0][1]\n",
    "    print(point1x)\n",
    "    print(point1y)\n",
    "    point2x=points[1][0]\n",
    "    point2y=points[1][1]\n",
    "    print(point2x)\n",
    "    print(point2y)\n",
    "    slope=(point2y-point1y)/(point2x-point1x)\n",
    "    print(slope)\n",
    "    intercept=point2y-slope*point2x \n",
    "    print(intercept)\n",
    "    intercept=point1y-slope*point1x \n",
    "    print(intercept)\n",
    "    print(\"y=\"+str(slope)+\"x+\"+str(intercept))\n"
   ]
  },
  {
   "cell_type": "code",
   "execution_count": 31,
   "id": "3d48fd43",
   "metadata": {},
   "outputs": [],
   "source": [
    "inputPoints=[[1,1],[3,2],[5,3],[4,1],[2,3],[1,4]]\n",
    "#inputPoints=[[5,3],[4,1],[2,3],[1,4]]"
   ]
  },
  {
   "cell_type": "code",
   "execution_count": 32,
   "id": "5c0545b2",
   "metadata": {},
   "outputs": [
    {
     "name": "stdout",
     "output_type": "stream",
     "text": [
      "[[1, 1], [3, 2], [5, 3], [4, 1], [2, 3], [1, 4]]\n",
      "1\n",
      "1\n",
      "3\n",
      "2\n",
      "0.5\n",
      "0.5\n",
      "0.5\n",
      "y=0.5x+0.5\n"
     ]
    }
   ],
   "source": [
    "maxPoints(inputPoints)"
   ]
  },
  {
   "cell_type": "code",
   "execution_count": null,
   "id": "7ced7164",
   "metadata": {},
   "outputs": [],
   "source": [
    "299 lines and 300 points to test\n",
    "299*300 = 90,000\n",
    "need a faster way to check 300 points and 299 line combinations\n",
    "store in dictionary and count.\n",
    "\n"
   ]
  },
  {
   "cell_type": "code",
   "execution_count": null,
   "id": "ceb42c29",
   "metadata": {},
   "outputs": [],
   "source": []
  }
 ],
 "metadata": {
  "kernelspec": {
   "display_name": "Python 3 (ipykernel)",
   "language": "python",
   "name": "python3"
  },
  "language_info": {
   "codemirror_mode": {
    "name": "ipython",
    "version": 3
   },
   "file_extension": ".py",
   "mimetype": "text/x-python",
   "name": "python",
   "nbconvert_exporter": "python",
   "pygments_lexer": "ipython3",
   "version": "3.9.12"
  }
 },
 "nbformat": 4,
 "nbformat_minor": 5
}
