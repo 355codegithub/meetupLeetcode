{
 "cells": [
  {
   "cell_type": "code",
   "execution_count": null,
   "id": "8ccf7457",
   "metadata": {},
   "outputs": [],
   "source": []
  },
  {
   "cell_type": "code",
   "execution_count": 51,
   "id": "ef08a48d",
   "metadata": {},
   "outputs": [],
   "source": [
    "#1, 1018 - 1]"
   ]
  },
  {
   "cell_type": "code",
   "execution_count": null,
   "id": "9ce56161",
   "metadata": {},
   "outputs": [],
   "source": []
  },
  {
   "cell_type": "code",
   "execution_count": 52,
   "id": "106075a3",
   "metadata": {},
   "outputs": [],
   "source": [
    "def closestPal(n):\n",
    "    print(n)\n",
    "    return(n)"
   ]
  },
  {
   "cell_type": "code",
   "execution_count": 53,
   "id": "063a6097",
   "metadata": {
    "scrolled": true
   },
   "outputs": [
    {
     "name": "stdout",
     "output_type": "stream",
     "text": [
      "150\n"
     ]
    },
    {
     "data": {
      "text/plain": [
       "150"
      ]
     },
     "execution_count": 53,
     "metadata": {},
     "output_type": "execute_result"
    }
   ],
   "source": [
    "closestPal(150)"
   ]
  },
  {
   "cell_type": "code",
   "execution_count": 62,
   "id": "9fb54ef3",
   "metadata": {},
   "outputs": [],
   "source": [
    "def isPalindrome(m):\n",
    "    inputLength=len(str(m))\n",
    "    evenDigits=False\n",
    "   \n",
    "    if inputLength%2==0:\n",
    "        evenDigits=True\n",
    "    else:\n",
    "        evenDigits=False\n",
    "        \n",
    "    if evenDigits:\n",
    "        firstHalf=str(m)[0:int(inputLength/2)]\n",
    "        secondHalf=str(m)[int(inputLength/2):int(inputLength)]\n",
    "        print(firstHalf)\n",
    "        print(secondHalf)\n",
    "        for k in range(len(secondHalf)):\n",
    "    isPalindrome=(firstHalf==secondHalf)\n",
    "    print(isPalindrome)\n",
    "    return(m)"
   ]
  },
  {
   "cell_type": "code",
   "execution_count": 65,
   "id": "2ef0fec0",
   "metadata": {},
   "outputs": [
    {
     "name": "stdout",
     "output_type": "stream",
     "text": [
      "512\n",
      "215\n",
      "False\n"
     ]
    },
    {
     "data": {
      "text/plain": [
       "512215"
      ]
     },
     "execution_count": 65,
     "metadata": {},
     "output_type": "execute_result"
    }
   ],
   "source": [
    "isPalindrome(512215)"
   ]
  },
  {
   "cell_type": "code",
   "execution_count": null,
   "id": "34681b2b",
   "metadata": {},
   "outputs": [],
   "source": []
  },
  {
   "cell_type": "code",
   "execution_count": null,
   "id": "7bf7f062",
   "metadata": {},
   "outputs": [],
   "source": []
  },
  {
   "cell_type": "code",
   "execution_count": null,
   "id": "efd839b5",
   "metadata": {},
   "outputs": [],
   "source": []
  },
  {
   "cell_type": "code",
   "execution_count": null,
   "id": "0956f55b",
   "metadata": {},
   "outputs": [],
   "source": []
  }
 ],
 "metadata": {
  "kernelspec": {
   "display_name": "Python 3 (ipykernel)",
   "language": "python",
   "name": "python3"
  },
  "language_info": {
   "codemirror_mode": {
    "name": "ipython",
    "version": 3
   },
   "file_extension": ".py",
   "mimetype": "text/x-python",
   "name": "python",
   "nbconvert_exporter": "python",
   "pygments_lexer": "ipython3",
   "version": "3.9.12"
  }
 },
 "nbformat": 4,
 "nbformat_minor": 5
}
