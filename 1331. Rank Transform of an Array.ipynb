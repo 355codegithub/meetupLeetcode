{
 "cells": [
  {
   "cell_type": "code",
   "execution_count": 189,
   "id": "6476f59b",
   "metadata": {},
   "outputs": [
    {
     "ename": "SyntaxError",
     "evalue": "invalid syntax (571671075.py, line 37)",
     "output_type": "error",
     "traceback": [
      "\u001b[0;36m  Input \u001b[0;32mIn [189]\u001b[0;36m\u001b[0m\n\u001b[0;31m    [1 1 2 2 3 3 ]\u001b[0m\n\u001b[0m       ^\u001b[0m\n\u001b[0;31mSyntaxError\u001b[0m\u001b[0;31m:\u001b[0m invalid syntax\n"
     ]
    }
   ],
   "source": [
    "#PLANNING: \n",
    "#GIVEN AN ARRAY ARR, \n",
    "#REPLACE ELEMENT WITH RANK.\n",
    "\n",
    "\n",
    "#REQUIREMENTS:\n",
    "#Rank Starts at 1.\n",
    "#Ties have same number.\n",
    "#Larger element, Larger the Rank.\n",
    "#Rank should be small as possible.\n",
    "\n",
    "#DESIGN:\n",
    "#Design a solution. \n",
    "#For Loop? List? Sorted List?\n",
    "#Dictionary\n",
    "#Runtime.\n",
    "\n",
    "#Step 1: Sort the list somehow.\n",
    "#Step 1B: I need to calculate the Rank. \n",
    "#i go through the sorted list. \n",
    "#if it is higher, i increase rank by 1. otherwise i keep equal.\n",
    "\n",
    "#Step 2: Replace the elements with the rank.\n",
    "\n",
    "#Step 3: Worry about runtime.\n",
    "\n",
    "#CODING:\n",
    "#Code it! 8:15pm-8:25pm. \n",
    "#Present at 8:25-8:35pm.\n",
    "\n",
    "#TESTING:\n",
    "# test with different cases\n",
    "[1,1,1,1,1]\n",
    "[55,14,31,22,43]\n",
    "[40,10,20,30]\n",
    "[5,1,2,6,8]\n",
    "[1 1 2 2 3 3 ]\n",
    "[37,12,28,9,100,56,80,5,12]\n",
    "\n",
    "#DEPLOYMENT:\n"
   ]
  },
  {
   "cell_type": "code",
   "execution_count": 190,
   "id": "171492e1",
   "metadata": {},
   "outputs": [],
   "source": [
    "def arrayRankTransform(arr):\n",
    "    sortedArr=sorted(arr)\n",
    "    rank=1\n",
    "    #rankArr=[]\n",
    "    #rankArr.append(rank)\n",
    "    outputArr=[]\n",
    "    rankDictionary={}\n",
    "    rankDictionary[sortedArr[0]]=1\n",
    "    for index in range(1,len(sortedArr)):\n",
    "        if sortedArr[index]>sortedArr[index-1]:\n",
    "            rank=rank+1\n",
    "        rankDictionary[sortedArr[index]]=rank\n",
    "        #rankArr.append(rank)\n",
    "    print(arr)\n",
    "    print(sortedArr)\n",
    "    print(rankArr)\n",
    "    print(rankDictionary)\n",
    "\n",
    "    for index in range(len(arr)):\n",
    "        thisElement=arr[index]\n",
    "        print(thisElement)\n",
    "        outputArr.append(rankDictionary[thisElement])\n",
    "        \n",
    "        #outputArr[index]=rankDictionary[thisElement]\n",
    "#    print(outputArr)\n",
    "#    for element in arr:\n",
    "#       outputArr.append(rankArr[sortedArr.index(element)])\n",
    "    return(outputArr)\n",
    "        "
   ]
  },
  {
   "cell_type": "code",
   "execution_count": 191,
   "id": "07928a7b",
   "metadata": {},
   "outputs": [],
   "source": [
    "def arrayRankTransform(arr):\n",
    "    sortedArr=sorted(arr)\n",
    "    rank=1\n",
    "    outputArr=[]\n",
    "    rankDictionary={}\n",
    "    rankDictionary[sortedArr[0]]=1\n",
    "    for index in range(1,len(sortedArr)):\n",
    "        if sortedArr[index]>sortedArr[index-1]:\n",
    "            rank=rank+1\n",
    "        rankDictionary[sortedArr[index]]=rank\n",
    "    \n",
    "    for index in range(len(arr)):\n",
    "        thisElement=arr[index]\n",
    "        outputArr.append(rankDictionary[thisElement])\n",
    "    print(arr)\n",
    "    print(sortedArr)\n",
    "    print(rankDictionary)\n",
    "    print(outputArr)\n",
    "        \n",
    "    return(outputArr)\n",
    "        "
   ]
  },
  {
   "cell_type": "code",
   "execution_count": 192,
   "id": "ea3c5565",
   "metadata": {},
   "outputs": [],
   "source": [
    "inputArray=[40,40,10,20,30]\n",
    "\n"
   ]
  },
  {
   "cell_type": "code",
   "execution_count": 193,
   "id": "9f4e6a3e",
   "metadata": {},
   "outputs": [
    {
     "name": "stdout",
     "output_type": "stream",
     "text": [
      "[40, 40, 10, 20, 30]\n",
      "[10, 20, 30, 40, 40]\n",
      "{10: 1, 20: 2, 30: 3, 40: 4}\n",
      "[4, 4, 1, 2, 3]\n"
     ]
    },
    {
     "data": {
      "text/plain": [
       "[4, 4, 1, 2, 3]"
      ]
     },
     "execution_count": 193,
     "metadata": {},
     "output_type": "execute_result"
    }
   ],
   "source": [
    "arrayRankTransform(inputArray)\n"
   ]
  },
  {
   "cell_type": "code",
   "execution_count": null,
   "id": "0f684f63",
   "metadata": {},
   "outputs": [],
   "source": []
  },
  {
   "cell_type": "code",
   "execution_count": null,
   "id": "df461994",
   "metadata": {},
   "outputs": [],
   "source": []
  },
  {
   "cell_type": "code",
   "execution_count": null,
   "id": "b39a265c",
   "metadata": {},
   "outputs": [],
   "source": []
  },
  {
   "cell_type": "code",
   "execution_count": null,
   "id": "a9efb464",
   "metadata": {},
   "outputs": [],
   "source": []
  }
 ],
 "metadata": {
  "kernelspec": {
   "display_name": "Python 3 (ipykernel)",
   "language": "python",
   "name": "python3"
  },
  "language_info": {
   "codemirror_mode": {
    "name": "ipython",
    "version": 3
   },
   "file_extension": ".py",
   "mimetype": "text/x-python",
   "name": "python",
   "nbconvert_exporter": "python",
   "pygments_lexer": "ipython3",
   "version": "3.9.12"
  }
 },
 "nbformat": 4,
 "nbformat_minor": 5
}
